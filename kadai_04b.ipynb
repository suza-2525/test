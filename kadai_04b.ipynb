{
  "cells": [
    {
      "cell_type": "markdown",
      "metadata": {
        "id": "Y8-EG-RJybBa"
      },
      "source": [
        "# コンピュータの言語2025：課題4\n",
        "\n",
        "文字列とリストとその応用"
      ]
    },
    {
      "cell_type": "markdown",
      "metadata": {
        "id": "_R88sNzLybBc"
      },
      "source": [
        "## 1. 文字列\n",
        "\n",
        "Python の文字列型データは，情報を調べたり操作したりするための便利な仕組み（関数とメソッド）があります．今回はそれについていくつか紹介します．関数とメソッドは同じような機能を持っていますが，データに対して与える形が異なります．\n",
        "* __関数__：```関数(データ)``` の形で，データを受け取って何かの処理をして，何かの値を返す\n",
        "* __メソッド__： ```データ.メソッド``` の形で，データに対して何かの処理をして，何らかの値を返す"
      ]
    },
    {
      "cell_type": "code",
      "execution_count": null,
      "metadata": {
        "id": "cSFvN1y5ybBc"
      },
      "outputs": [],
      "source": [
        "# 例となる文字\n",
        "a = \"私の部屋はとても広い\"\n",
        "print(a)"
      ]
    },
    {
      "cell_type": "markdown",
      "metadata": {
        "id": "cdZHLkJSybBd",
        "tags": []
      },
      "source": [
        "### 1.1 文字列の長さ\n",
        "\n",
        "* 関数 ```len(文字列)``` は文字列の長さを返します．"
      ]
    },
    {
      "cell_type": "code",
      "execution_count": null,
      "metadata": {
        "id": "xh2LIw6nybBe"
      },
      "outputs": [],
      "source": [
        "len(a)"
      ]
    },
    {
      "cell_type": "markdown",
      "metadata": {
        "id": "bAzyJIBAybBe"
      },
      "source": [
        "### 1.2 置き換え\n",
        "* メソッド ```replace(A,B)``` は文字列Aを文字列Bに置き換えます"
      ]
    },
    {
      "cell_type": "code",
      "execution_count": null,
      "metadata": {
        "id": "dQMKlGaWybBe"
      },
      "outputs": [],
      "source": [
        "b = a.replace(\"私\",\"あなた\")\n",
        "print(b)"
      ]
    },
    {
      "cell_type": "code",
      "execution_count": null,
      "metadata": {
        "id": "9bPibYvmybBf"
      },
      "outputs": [],
      "source": [
        "c = a.replace(\"広い\",\"狭い\")\n",
        "print(c)"
      ]
    },
    {
      "cell_type": "markdown",
      "metadata": {
        "id": "5F7OnYl7ybBf"
      },
      "source": [
        "#### やってみよう\n",
        "文字列 \"kadai.txt\" を \"kadai.ipynb\" に置き換えてみてください．"
      ]
    },
    {
      "cell_type": "code",
      "execution_count": 51,
      "metadata": {
        "id": "HOFBbm8zybBf",
        "outputId": "4d151d5f-67e1-4c4e-f4f7-6d7033dd8de7",
        "colab": {
          "base_uri": "https://localhost:8080/"
        }
      },
      "outputs": [
        {
          "output_type": "stream",
          "name": "stdout",
          "text": [
            "kadai.ipynb\n"
          ]
        }
      ],
      "source": [
        "filename = \"kadai.txt\"\n",
        "filename_b = filename.replace(\"kadai.txt\",\"kadai.ipynb\")\n",
        "print(filename_b)"
      ]
    },
    {
      "cell_type": "markdown",
      "metadata": {
        "id": "iULUtBwUybBg"
      },
      "source": [
        "### 1.3 文字数のカウント"
      ]
    },
    {
      "cell_type": "code",
      "execution_count": 52,
      "metadata": {
        "id": "vCN0XPnuybBg",
        "outputId": "497167e6-9391-4d29-cee4-56c23be2af52",
        "colab": {
          "base_uri": "https://localhost:8080/"
        }
      },
      "outputs": [
        {
          "output_type": "stream",
          "name": "stdout",
          "text": [
            "3\n",
            "6\n"
          ]
        }
      ],
      "source": [
        "d = \"あの犬，ちゃうちゃうちゃう？\"         # あの犬はチャウチャウという犬種の犬でしょうか？\n",
        "e = \"ちゃうちゃう，ちゃうちゃうちゃうんちゃう．\" # いいえ，違います．そのいぬはチャウチャウではないと思います．\n",
        "print(d.count(\"ちゃう\"))\n",
        "print(e.count(\"ちゃう\"))"
      ]
    },
    {
      "cell_type": "markdown",
      "metadata": {
        "id": "Is-aI9ETybBg"
      },
      "source": [
        "### 1.4 文字の位置\n",
        "\n",
        "文字列は最初の文字を０番とする番号がついています． ```index``` は，文字列のある場所を教えてくれます．\n",
        "\n",
        "|0|1|2|3|4|5|6|7|8|9|10|11|12|13|14|15|\n",
        "|--|--|--|--|--|--|--|--|--|--|--|--|--|--|--|--|\n",
        "|人|生|は|楽|で|は|な|い|。|そ|こ|が|面|白|い|。|"
      ]
    },
    {
      "cell_type": "code",
      "execution_count": 53,
      "metadata": {
        "id": "ouExO8RCybBh",
        "outputId": "c9292a3b-3738-4ebd-8db8-79dcd14cf361",
        "colab": {
          "base_uri": "https://localhost:8080/"
        }
      },
      "outputs": [
        {
          "output_type": "execute_result",
          "data": {
            "text/plain": [
              "3"
            ]
          },
          "metadata": {},
          "execution_count": 53
        }
      ],
      "source": [
        "f = \"人生は楽ではない。そこが面白い。\"\n",
        "f.index(\"楽\")"
      ]
    },
    {
      "cell_type": "markdown",
      "metadata": {
        "id": "d-UmVEPlybBh"
      },
      "source": [
        "ある番号にある文字の場所は ```[番号]``` で参照することができます．"
      ]
    },
    {
      "cell_type": "code",
      "execution_count": null,
      "metadata": {
        "id": "c2BePEBdybBh"
      },
      "outputs": [],
      "source": [
        "f[12]"
      ]
    },
    {
      "cell_type": "markdown",
      "metadata": {
        "id": "dPLS2NnCybBi"
      },
      "source": [
        "この番号を利用して文字列の抜き出しをすることができます．\n",
        "\n",
        "```\n",
        "文字列[番号A:番号B]\n",
        "```\n",
        "とすると，文字列のA番から___B-1___ 番までの文字列を取り出すことができます．"
      ]
    },
    {
      "cell_type": "code",
      "execution_count": null,
      "metadata": {
        "id": "N4yBAFMEybBi"
      },
      "outputs": [],
      "source": [
        "f[3:8]"
      ]
    },
    {
      "cell_type": "markdown",
      "metadata": {
        "id": "gtlDdBiqybBj"
      },
      "source": [
        "#### やってみよう\n",
        "文字列 f から「面白い」の文字列を取り出す命令を書いてください．"
      ]
    },
    {
      "cell_type": "markdown",
      "metadata": {
        "id": "bBEIePaRybBj"
      },
      "source": []
    },
    {
      "cell_type": "markdown",
      "metadata": {
        "id": "rfc6E8bSybBj"
      },
      "source": [
        "### 1.5 文字列の比較\n",
        "\n",
        "文字列が同じかどうかは ```==``` で判定することができます．"
      ]
    },
    {
      "cell_type": "code",
      "execution_count": 54,
      "metadata": {
        "id": "TnYZxNpfybBj",
        "outputId": "97b04cee-5c2d-4a7a-bf6e-1823882116ba",
        "colab": {
          "base_uri": "https://localhost:8080/"
        }
      },
      "outputs": [
        {
          "output_type": "stream",
          "name": "stdout",
          "text": [
            "False\n",
            "True\n"
          ]
        }
      ],
      "source": [
        "x = \"apple\"\n",
        "y = \"orange\"\n",
        "z = \"apple\"\n",
        "\n",
        "print(x==y)\n",
        "print(x==z)"
      ]
    },
    {
      "cell_type": "markdown",
      "metadata": {
        "id": "52ZDzqC5ybBk"
      },
      "source": [
        "文字列が含まれているかどうかは， ```in``` を使って調べることができます．"
      ]
    },
    {
      "cell_type": "code",
      "execution_count": 55,
      "metadata": {
        "id": "-ZplrpeDybBk",
        "outputId": "ab7d16fc-7213-45f4-e5c8-37180c7a3cdc",
        "colab": {
          "base_uri": "https://localhost:8080/"
        }
      },
      "outputs": [
        {
          "output_type": "stream",
          "name": "stdout",
          "text": [
            "True\n",
            "False\n"
          ]
        }
      ],
      "source": [
        "x = '難しい'\n",
        "y = '易しい'\n",
        "answer = \"この問題はとても難しい\"\n",
        "\n",
        "print(x in answer)\n",
        "print(y in answer)"
      ]
    },
    {
      "cell_type": "markdown",
      "metadata": {
        "id": "RJ34F5xBybBk"
      },
      "source": [
        "## 練習1\n",
        "\n",
        "\"反省をしていると申し上げましたが、反省しているんです。ただ、これは私の問題だと思いますが、反省をしていると言いながら、反省をしている色が見えない。というご指摘は、私自身の問題だと反省をしております。（小泉進次郎）\" という文字列について，以下の命令をかいてください．"
      ]
    },
    {
      "cell_type": "code",
      "execution_count": 56,
      "metadata": {
        "id": "INxSjcAmybBk",
        "outputId": "2d4e1198-327e-4dd4-b1e2-b35cc5e59fc1",
        "colab": {
          "base_uri": "https://localhost:8080/"
        }
      },
      "outputs": [
        {
          "output_type": "stream",
          "name": "stdout",
          "text": [
            "106\n",
            "5\n",
            "反省をしていると申し上げましたが、反省しているんです。ただ、これはあなたの問題だと思いますが、反省をしていると言いながら、反省をしている色が見えない。というご指摘は、あなた自身の問題だと反省をしております。（小泉進次郎）\n"
          ]
        }
      ],
      "source": [
        "p = \"反省をしていると申し上げましたが、反省しているんです。\\\n",
        "ただ、これは私の問題だと思いますが、反省をしていると言いながら、\\\n",
        "反省をしている色が見えない。というご指摘は、私自身の問題だと反省をしております。（小泉進次郎）\"\n",
        "\n",
        "# 文字数は全部で何文字？\n",
        "\n",
        "mojisu = len(p)\n",
        "print(mojisu)\n",
        "\n",
        "# 「反省」は何回ある？\n",
        "\n",
        "num_hansei = p.count(\"反省\")\n",
        "print(num_hansei)\n",
        "\n",
        "# 「私」を「あなた」に置き換えてください．\n",
        "\n",
        "okikae_p = p.replace(\"私\",\"あなた\")\n",
        "print(okikae_p)"
      ]
    },
    {
      "cell_type": "markdown",
      "metadata": {
        "id": "KclibyFxybBl"
      },
      "source": [
        "## 2. リスト\n",
        "\n",
        "これまで，「数値型（整数・浮動小数点数）」「文字列型」「真偽型」などの型を扱ってきましたが，これらの基本的なデータを書類棚のように一つの場所に納めて扱うデータ型に __リスト__ があります．リストは柔軟に多様なデータをひとまとめに扱うことができるため． Python プログラムの中で，非常に多くの場面で登場します．\n",
        "\n",
        "リストは ```[   ]``` に囲まれたもので定義され，その中に様々なものを入れることができます．以下では，リストに含まれる一つ一つのデータを __要素__ と呼んでいます．"
      ]
    },
    {
      "cell_type": "code",
      "execution_count": 57,
      "metadata": {
        "id": "uxxhaa5qybBl",
        "outputId": "9ccfbbc6-b79a-4c66-b655-4d3a53d7209f",
        "colab": {
          "base_uri": "https://localhost:8080/"
        }
      },
      "outputs": [
        {
          "output_type": "stream",
          "name": "stdout",
          "text": [
            "['これ', 'あれ', 'それ', 1, True]\n"
          ]
        }
      ],
      "source": [
        "lisa = [\"これ\", \"あれ\", \"それ\", 1, True]\n",
        "\n",
        "print(lisa)"
      ]
    },
    {
      "cell_type": "markdown",
      "metadata": {
        "id": "7kjps3nOybBl"
      },
      "source": [
        "### 2.1 要素の数\n",
        "* 要素の数は ```len``` という命令で調べることができます．"
      ]
    },
    {
      "cell_type": "code",
      "execution_count": null,
      "metadata": {
        "id": "lCobe7eDybBm"
      },
      "outputs": [],
      "source": [
        "len(lisa)"
      ]
    },
    {
      "cell_type": "markdown",
      "metadata": {
        "id": "sVQ7N2u8ybBm"
      },
      "source": [
        "### 2.2 要素の位置と参照\n",
        "* リストの要素は番号づけられており（０から始まります），```リスト[番号]``` で，その番号にある要素を参照することができ，```リスト.index(要素)``` で要素がある場所の番号を調べることができます．\n",
        "\n",
        "* ```lisa = [\"これ\", \"あれ\", \"それ\", 1, True]``` の場合の番号と要素の対応関係は以下のようになっています．\n",
        "\n",
        "|0|1|2|3|4|\n",
        "|--|--|--|--|--|\n",
        "|\"これ\"| \"あれ\"| \"それ\"| 1| True|"
      ]
    },
    {
      "cell_type": "code",
      "execution_count": null,
      "metadata": {
        "id": "6llLAGH4ybBm"
      },
      "outputs": [],
      "source": [
        "lisa[1]"
      ]
    },
    {
      "cell_type": "code",
      "execution_count": null,
      "metadata": {
        "id": "lxgkkd19ybBm"
      },
      "outputs": [],
      "source": [
        "lisa.index(\"これ\")"
      ]
    },
    {
      "cell_type": "markdown",
      "metadata": {
        "id": "FZ3QcJ-oybBm"
      },
      "source": [
        "### 2.3 要素の追加と削除\n",
        "* リストに要素を追加するには，```append``` というメソッドを利用し，削除するには ```pop``` という命令を使います．"
      ]
    },
    {
      "cell_type": "code",
      "execution_count": 58,
      "metadata": {
        "id": "J5VY-s_AybBn",
        "outputId": "2ba905ef-ab69-4cc0-a2ca-a2a66a4d921b",
        "colab": {
          "base_uri": "https://localhost:8080/"
        }
      },
      "outputs": [
        {
          "output_type": "stream",
          "name": "stdout",
          "text": [
            "['これ', 'あれ', 'それ', 'どこ']\n",
            "['これ', 'あれ', 'それ']\n"
          ]
        }
      ],
      "source": [
        "lisb = [\"これ\", \"あれ\", \"それ\"]\n",
        "\n",
        "# 追加\n",
        "lisb.append(\"どこ\")  # リストの最後に\"どこ\"をくっつけます．\n",
        "print(lisb)\n",
        "\n",
        "# 削除\n",
        "lisb.pop()          # リストの最後の要素を取り除きます\n",
        "print(lisb)"
      ]
    },
    {
      "cell_type": "markdown",
      "metadata": {
        "id": "CAldKI1HybBn"
      },
      "source": [
        "リストの要素を追加，削除する命令には他にも[たくさんあります](https://docs.python.org/ja/3/tutorial/datastructures.html#more-on-lists)が，最初は必要最低限だけ覚えておき，必要になれば，調べて使うようにすればよいでしょう．"
      ]
    },
    {
      "cell_type": "markdown",
      "metadata": {
        "id": "vhbYOTFCybBn"
      },
      "source": [
        "### 2.4 入れ替え\n",
        "\n",
        "* リストの番号で指定することによって，要素を入れ替えることができます．"
      ]
    },
    {
      "cell_type": "code",
      "execution_count": 59,
      "metadata": {
        "id": "JdzHs3tyybBn",
        "outputId": "4b7c6447-0844-4ac9-caa7-0ccc2d23b5ff",
        "colab": {
          "base_uri": "https://localhost:8080/"
        }
      },
      "outputs": [
        {
          "output_type": "stream",
          "name": "stdout",
          "text": [
            "[1, 3, 5, 7]\n"
          ]
        }
      ],
      "source": [
        "lisc = [1,3,9,7]\n",
        "lisc[2] = 5       # 2番の要素を 5 にする\n",
        "print(lisc)"
      ]
    },
    {
      "cell_type": "markdown",
      "metadata": {
        "id": "dSV9MlGLybBn"
      },
      "source": [
        "### 2.5 for と リスト\n",
        "\n",
        "リストに含まれる要素について，様々な処理をしたい場合， for を使ってそれぞれの要素にアクセスすることがよくあります．そのためには番号を使う方法がよく使われます．"
      ]
    },
    {
      "cell_type": "code",
      "execution_count": 60,
      "metadata": {
        "id": "ygf-CFnjybBo",
        "outputId": "784ce2dd-14fa-4784-c666-1504f117ac49",
        "colab": {
          "base_uri": "https://localhost:8080/"
        }
      },
      "outputs": [
        {
          "output_type": "stream",
          "name": "stdout",
          "text": [
            "apple\n",
            "orange\n",
            "banana\n"
          ]
        }
      ],
      "source": [
        "lisd = [\"apple\", \"orange\", \"banana\"]\n",
        "\n",
        "num = len(lisd)\n",
        "for i in range(num):\n",
        "    print(lisd[i])"
      ]
    },
    {
      "cell_type": "markdown",
      "metadata": {
        "id": "ixcVQ9Q6ybBo"
      },
      "source": [
        "別の方法として，```for``` 文の ```in``` にリストをおくと，リストの要素を一つずつ取り出すことができます．"
      ]
    },
    {
      "cell_type": "code",
      "execution_count": 61,
      "metadata": {
        "id": "2RZ0AUPpybBo",
        "outputId": "e10fa8e4-23a4-4cc9-e05c-7c04a350f9d4",
        "colab": {
          "base_uri": "https://localhost:8080/"
        }
      },
      "outputs": [
        {
          "output_type": "stream",
          "name": "stdout",
          "text": [
            "apple\n",
            "orange\n",
            "banana\n"
          ]
        }
      ],
      "source": [
        "lisd = [\"apple\", \"orange\", \"banana\"]\n",
        "\n",
        "for i in lisd:\n",
        "    print( i )"
      ]
    },
    {
      "cell_type": "markdown",
      "metadata": {
        "id": "86qdQCszybBo"
      },
      "source": [
        "この時， **i には要素そのものが入っている** ことに注意してください．"
      ]
    },
    {
      "cell_type": "markdown",
      "metadata": {
        "id": "XUxHCAPuSoZ-"
      },
      "source": [
        "## 2.6 リスト内包表記で新しいリストを作成する\n",
        "\n",
        "\"1,2,3,4,5,6\" という文字列データから [1,2,3,4,5,6] というリストを作成することを考えてみます．\n",
        "文字列データを分割する方法として ```split``` という便利なメソッドがあります．"
      ]
    },
    {
      "cell_type": "code",
      "execution_count": 62,
      "metadata": {
        "id": "3kQ3aQN9TJT7",
        "outputId": "75afcad4-e83c-47d0-9cb3-096d8c7413f9",
        "colab": {
          "base_uri": "https://localhost:8080/"
        }
      },
      "outputs": [
        {
          "output_type": "stream",
          "name": "stdout",
          "text": [
            "['1', '2', '3', '4', '5', '6']\n"
          ]
        }
      ],
      "source": [
        "a = \"1,2,3,4,5,6\"\n",
        "b = a.split(\",\")\n",
        "print(b)"
      ]
    },
    {
      "cell_type": "markdown",
      "metadata": {
        "id": "JYc50aFsTNlz"
      },
      "source": [
        "結果を見るとわかるように，```split``` の後に与える文字で，文字列を区切ってくれます．\n",
        "でも，区切られてできたデータは文字列からなるリストですので，それぞれの要素を整数型に変換する必要があります．\n",
        "\n",
        "以前，文字列型から整数に変換する関数として ```int``` という関数を紹介しましたので，それをリストb の要素にそれぞれ適用して新しいリストを作成することにします．"
      ]
    },
    {
      "cell_type": "code",
      "execution_count": 63,
      "metadata": {
        "id": "5EqhqlBkTtrW",
        "outputId": "53ee0c5e-7e82-42e1-8088-f355f542e8dd",
        "colab": {
          "base_uri": "https://localhost:8080/"
        }
      },
      "outputs": [
        {
          "output_type": "stream",
          "name": "stdout",
          "text": [
            "[1, 2, 3, 4, 5, 6]\n"
          ]
        }
      ],
      "source": [
        "c = []\n",
        "for i in b:\n",
        "    c.append(int(i))\n",
        "print(c)"
      ]
    },
    {
      "cell_type": "markdown",
      "metadata": {
        "id": "z319xAC0UK2p"
      },
      "source": [
        "基本的にはこれで新しいリストが作成されるのですが，リストの要素にそれぞれ何かの関数を適用して，新しいリストを作成したいとき，便利な書き方があります．それがリスト内包表記で上記の操作を以下のように１行で書くことができます．"
      ]
    },
    {
      "cell_type": "code",
      "execution_count": 64,
      "metadata": {
        "id": "CF93f4weUerm",
        "outputId": "447883d3-75a0-48af-80a2-49596c84ba1e",
        "colab": {
          "base_uri": "https://localhost:8080/"
        }
      },
      "outputs": [
        {
          "output_type": "stream",
          "name": "stdout",
          "text": [
            "[1, 2, 3, 4, 5, 6]\n"
          ]
        }
      ],
      "source": [
        "e = [int(i) for i in b]\n",
        "print(e)"
      ]
    },
    {
      "cell_type": "markdown",
      "metadata": {
        "id": "EZ1FWpdOybBp"
      },
      "source": [
        "## 応用\n",
        "\n",
        "ここまでで，「基本的なデータ型」，「分岐・繰り返し」，「リスト」について学びましたが，これでも多様な仕事をさせることができます．\n",
        "今回はアンケート結果のデータ処理を例に練習してみましょう．"
      ]
    },
    {
      "cell_type": "markdown",
      "metadata": {
        "id": "1qgvZEHjybBp"
      },
      "source": [
        "### 練習2\n",
        "\n",
        "ある問題に対するアンケートでの感想が，以下のようにリストに入っています．この問題を「難しい」と感じた人を感想の中に '難' の字が含まれているかどうかで判断してみましょう．感想の中で難しいと感じた人の数と，その全体に対する割合を求めるプログラムを完成させてください．\n",
        "\n",
        "```python\n",
        "answer = ['この問題は難しかった', '超楽勝', 'たいへん難しかった', 'まだまだいける', 'くそ難しい', '難しすぎて死にたい', 'この問題を作った人をXしたい']\n",
        "```"
      ]
    },
    {
      "cell_type": "code",
      "execution_count": 69,
      "metadata": {
        "id": "OqOAGX_tybBp",
        "outputId": "998d54ca-a7a5-49e5-b8d5-7ba03fa3c345",
        "colab": {
          "base_uri": "https://localhost:8080/"
        }
      },
      "outputs": [
        {
          "output_type": "stream",
          "name": "stdout",
          "text": [
            "4\n",
            "難しいと感じた人は全体の57.14285714285714%です\n"
          ]
        }
      ],
      "source": [
        "answer = ['この問題は難しかった', '超楽勝', 'たいへん難しかった', 'まだまだいける', 'くそ難しい', '難しすぎて死にたい', 'この問題を作った人をXしたい']\n",
        "\n",
        "count = 0\n",
        "for i in answer:\n",
        "  if \"難\" in i:\n",
        "    count = count + 1\n",
        "\n",
        "print(count)\n",
        "\n",
        "muzu_rate = count/len(answer) * 100\n",
        "print(f'難しいと感じた人は全体の{muzu_rate}%です')"
      ]
    },
    {
      "cell_type": "markdown",
      "metadata": {
        "id": "Gef7dOvrybBp"
      },
      "source": [
        "### 練習3\n",
        "\n",
        "練習２の感想のリストから，「難」という字を含まない感想を抽出して，新しいリストを作成してください．"
      ]
    },
    {
      "cell_type": "code",
      "execution_count": 70,
      "metadata": {
        "id": "FZbX0amKybBp",
        "outputId": "cf27a786-dcc5-48b5-8a13-a928380c412d",
        "colab": {
          "base_uri": "https://localhost:8080/"
        }
      },
      "outputs": [
        {
          "output_type": "stream",
          "name": "stdout",
          "text": [
            "['超楽勝', 'まだまだいける', 'この問題を作った人をXしたい']\n"
          ]
        }
      ],
      "source": [
        "answer = ['この問題は難しかった', '超楽勝', 'たいへん難しかった', 'まだまだいける', 'くそ難しい', '難しすぎて死にたい', 'この問題を作った人をXしたい']\n",
        "\n",
        "no_muzu = []   # 空のリストを作成しておく\n",
        "\n",
        "for i in answer:\n",
        "    if \"難\" not in i:\n",
        "        no_muzu.append(i)\n",
        "\n",
        "print(no_muzu)"
      ]
    },
    {
      "cell_type": "markdown",
      "metadata": {
        "id": "4MZgsR54ybBp"
      },
      "source": [
        "### 練習4\n",
        "\n",
        "ある問題に対するアンケートで，その問題の難しさを１０段階評価をしてもらった結果が，以下のようにリストに入っています．この問題の難しさに対する平均値を求めてください．\n",
        "\n",
        "```\n",
        "answer = [10, 4, 9, 9, 3, 5, 9, 9, 7, 8, 5, 4, 10, 2, 6, 7, 9, 0, 10, 3, 10, 3, 8, 10, 9, 5, 5, 9, 5, 8]\n",
        "```"
      ]
    },
    {
      "cell_type": "code",
      "execution_count": 84,
      "metadata": {
        "id": "sZn6hZJOybBq",
        "outputId": "e651f017-e8fa-4fcd-a7cd-5ba076d37b29",
        "colab": {
          "base_uri": "https://localhost:8080/"
        }
      },
      "outputs": [
        {
          "output_type": "stream",
          "name": "stdout",
          "text": [
            "難しさの平均は6.7です\n"
          ]
        }
      ],
      "source": [
        "answer = [10, 4, 9, 9, 3, 5, 9, 9, 7, 8, 5, 4, 10, 2, 6, 7, 9, 0, 10, 3, 10, 3, 8, 10, 9, 5, 5, 9, 5, 8]\n",
        "\n",
        "sum_all = 0\n",
        "for i in answer:\n",
        "  sum_all = sum_all + i\n",
        "\n",
        "heikin = sum_all / len(answer)\n",
        "print(f'難しさの平均は{heikin}です')"
      ]
    },
    {
      "cell_type": "markdown",
      "metadata": {
        "id": "1vFGBZ77ybBq"
      },
      "source": [
        "ちなみに，リストに含まれる数の和については， ```for``` を使わなくても，```sum(リスト)``` という組込みの関数によっても求めることができます．"
      ]
    },
    {
      "cell_type": "code",
      "execution_count": 83,
      "metadata": {
        "id": "bqsat5UqybBq",
        "outputId": "8fe34718-9db2-4da6-914b-692c10920a19",
        "colab": {
          "base_uri": "https://localhost:8080/",
          "height": 184
        }
      },
      "outputs": [
        {
          "output_type": "error",
          "ename": "TypeError",
          "evalue": "'float' object is not callable",
          "traceback": [
            "\u001b[0;31m---------------------------------------------------------------------------\u001b[0m",
            "\u001b[0;31mTypeError\u001b[0m                                 Traceback (most recent call last)",
            "\u001b[0;32m/tmp/ipython-input-45731118.py\u001b[0m in \u001b[0;36m<cell line: 0>\u001b[0;34m()\u001b[0m\n\u001b[1;32m      1\u001b[0m \u001b[0mlis\u001b[0m \u001b[0;34m=\u001b[0m \u001b[0;34m[\u001b[0m\u001b[0;36m1\u001b[0m\u001b[0;34m,\u001b[0m\u001b[0;36m2\u001b[0m\u001b[0;34m,\u001b[0m\u001b[0;36m3\u001b[0m\u001b[0;34m]\u001b[0m\u001b[0;34m\u001b[0m\u001b[0;34m\u001b[0m\u001b[0m\n\u001b[0;32m----> 2\u001b[0;31m \u001b[0msum_all\u001b[0m \u001b[0;34m=\u001b[0m \u001b[0msum\u001b[0m\u001b[0;34m(\u001b[0m\u001b[0mlis\u001b[0m\u001b[0;34m)\u001b[0m\u001b[0;34m\u001b[0m\u001b[0;34m\u001b[0m\u001b[0m\n\u001b[0m\u001b[1;32m      3\u001b[0m \u001b[0mprint\u001b[0m\u001b[0;34m(\u001b[0m\u001b[0msum_all\u001b[0m\u001b[0;34m)\u001b[0m\u001b[0;34m\u001b[0m\u001b[0;34m\u001b[0m\u001b[0m\n",
            "\u001b[0;31mTypeError\u001b[0m: 'float' object is not callable"
          ]
        }
      ],
      "source": [
        "lis = [1,2,3]\n",
        "sum_all = sum(lis)\n",
        "print(sum_all)"
      ]
    },
    {
      "cell_type": "markdown",
      "metadata": {
        "id": "jZ6jhFzEybBq"
      },
      "source": [
        "この```sum```関数を使うと上のプログラムはどのように書くことができるでしょうか？"
      ]
    },
    {
      "cell_type": "code",
      "execution_count": 74,
      "metadata": {
        "id": "RLu_kTCAybBq",
        "outputId": "1f9062e7-3d74-430d-b4da-419f1b9927bf",
        "colab": {
          "base_uri": "https://localhost:8080/",
          "height": 221
        }
      },
      "outputs": [
        {
          "output_type": "error",
          "ename": "TypeError",
          "evalue": "'float' object is not callable",
          "traceback": [
            "\u001b[0;31m---------------------------------------------------------------------------\u001b[0m",
            "\u001b[0;31mTypeError\u001b[0m                                 Traceback (most recent call last)",
            "\u001b[0;32m/tmp/ipython-input-151512909.py\u001b[0m in \u001b[0;36m<cell line: 0>\u001b[0;34m()\u001b[0m\n\u001b[1;32m      3\u001b[0m \u001b[0msum_all\u001b[0m \u001b[0;34m=\u001b[0m \u001b[0;36m0\u001b[0m\u001b[0;34m\u001b[0m\u001b[0;34m\u001b[0m\u001b[0m\n\u001b[1;32m      4\u001b[0m \u001b[0;32mfor\u001b[0m \u001b[0mi\u001b[0m \u001b[0;32min\u001b[0m \u001b[0manswer\u001b[0m\u001b[0;34m:\u001b[0m\u001b[0;34m\u001b[0m\u001b[0;34m\u001b[0m\u001b[0m\n\u001b[0;32m----> 5\u001b[0;31m   \u001b[0msum_all\u001b[0m \u001b[0;34m=\u001b[0m \u001b[0msum\u001b[0m\u001b[0;34m(\u001b[0m\u001b[0manswer\u001b[0m\u001b[0;34m)\u001b[0m\u001b[0;34m\u001b[0m\u001b[0;34m\u001b[0m\u001b[0m\n\u001b[0m\u001b[1;32m      6\u001b[0m \u001b[0;34m\u001b[0m\u001b[0m\n\u001b[1;32m      7\u001b[0m \u001b[0mheikin\u001b[0m \u001b[0;34m=\u001b[0m \u001b[0msum_all\u001b[0m \u001b[0;34m/\u001b[0m \u001b[0mlen\u001b[0m\u001b[0;34m(\u001b[0m\u001b[0manswer\u001b[0m\u001b[0;34m)\u001b[0m\u001b[0;34m\u001b[0m\u001b[0;34m\u001b[0m\u001b[0m\n",
            "\u001b[0;31mTypeError\u001b[0m: 'float' object is not callable"
          ]
        }
      ],
      "source": [
        "answer = [10, 4, 9, 9, 3, 5, 9, 9, 7, 8, 5, 4, 10, 2, 6, 7, 9, 0, 10, 3, 10, 3, 8, 10, 9, 5, 5, 9, 5, 8]\n",
        "\n",
        "sum_all = 0\n",
        "for i in answer:\n",
        "  sum_all = sum(answer)\n",
        "\n",
        "heikin = sum_all / len(answer)\n",
        "print(f'難しさの平均は{heikin}です')\n",
        "\n"
      ]
    },
    {
      "cell_type": "markdown",
      "metadata": {
        "id": "gJx9FHSjybBq"
      },
      "source": [
        "### 練習5\n",
        "\n",
        "クジのデータが200個あります．このクジの当たる確率を求めてください．"
      ]
    },
    {
      "cell_type": "code",
      "execution_count": 93,
      "metadata": {
        "id": "Corib5M4ybBr",
        "outputId": "61292f9b-a2a2-4c8d-bf6b-204db5d8a2aa",
        "colab": {
          "base_uri": "https://localhost:8080/"
        }
      },
      "outputs": [
        {
          "output_type": "stream",
          "name": "stdout",
          "text": [
            "このクジの当たる確率は0.11です．\n"
          ]
        }
      ],
      "source": [
        "kuji = ['はずれ', 'はずれ', 'はずれ', 'はずれ', 'はずれ', 'はずれ', 'はずれ', 'はずれ', 'はずれ', 'はずれ', 'はずれ', 'はずれ', 'はずれ', 'はずれ', 'はずれ', 'あたり', 'はずれ', 'はずれ', 'あたり', 'はずれ', 'はずれ', 'はずれ', 'はずれ', 'はずれ', 'はずれ', 'はずれ', 'はずれ', 'あたり', 'はずれ', 'はずれ', 'はずれ', 'はずれ', 'はずれ', 'はずれ', 'はずれ', 'はずれ', 'はずれ', 'はずれ', 'はずれ', 'はずれ', 'はずれ', 'はずれ', 'はずれ', 'はずれ', 'はずれ', 'はずれ', 'はずれ', 'はずれ', 'はずれ', 'はずれ', 'はずれ', 'はずれ', 'はずれ', 'はずれ', 'あたり', 'はずれ', 'はずれ', 'あたり', 'はずれ', 'はずれ', 'はずれ', 'はずれ', 'はずれ', 'はずれ', 'はずれ', 'はずれ', 'はずれ', 'はずれ', 'はずれ', 'はずれ', 'はずれ', 'はずれ', 'はずれ', 'はずれ', 'はずれ', 'はずれ', 'あたり', 'はずれ', 'はずれ', 'あたり', 'はずれ', 'あたり', 'はずれ', 'はずれ', 'はずれ', 'あたり', 'はずれ', 'はずれ', 'はずれ', 'はずれ', 'はずれ', 'はずれ', 'はずれ', 'あたり', 'はずれ', 'はずれ', 'はずれ', 'はずれ', 'はずれ', 'はずれ', 'はずれ', 'はずれ', 'はずれ', 'はずれ', 'はずれ', 'はずれ', 'はずれ', 'はずれ', 'はずれ', 'はずれ', 'はずれ', 'はずれ', 'はずれ', 'はずれ', 'はずれ', 'あたり', 'あたり', 'はずれ', 'はずれ', 'はずれ', 'はずれ', 'はずれ', 'はずれ', 'はずれ', 'はずれ', 'はずれ', 'はずれ', 'あたり', 'はずれ', 'はずれ', 'はずれ', 'はずれ', 'はずれ', 'はずれ', 'はずれ', 'あたり', 'はずれ', 'はずれ', 'あたり', 'はずれ', 'はずれ', 'はずれ', 'あたり', 'はずれ', 'はずれ', 'はずれ', 'はずれ', 'あたり', 'はずれ', 'あたり', 'はずれ', 'はずれ', 'はずれ', 'はずれ', 'はずれ', 'はずれ', 'はずれ', 'はずれ', 'はずれ', 'はずれ', 'はずれ', 'はずれ', 'はずれ', 'はずれ', 'はずれ', 'はずれ', 'はずれ', 'はずれ', 'はずれ', 'はずれ', 'はずれ', 'はずれ', 'はずれ', 'あたり', 'はずれ', 'はずれ', 'はずれ', 'あたり', 'あたり', 'はずれ', 'はずれ', 'はずれ', 'はずれ', 'はずれ', 'はずれ', 'はずれ', 'はずれ', 'はずれ', 'はずれ', 'はずれ', 'はずれ', 'はずれ', 'はずれ', 'はずれ', 'はずれ', 'はずれ', 'はずれ', 'あたり', 'はずれ', 'はずれ']\n",
        "\n",
        "atari = 0\n",
        "for i in kuji:\n",
        "  if 'あたり' in i:\n",
        "    atari = atari + 1\n",
        "\n",
        "p = atari / len(kuji)\n",
        "\n",
        "print(f'このクジの当たる確率は{p}です．')"
      ]
    },
    {
      "cell_type": "markdown",
      "metadata": {
        "id": "olhGz1CsVsmZ"
      },
      "source": [
        "### 練習6\n",
        "以下のプログラムを改変して 0から4までの整数の二乗を要素とする新しいリストsquaresを、リスト内包表記を使って作成してください。"
      ]
    },
    {
      "cell_type": "code",
      "execution_count": 94,
      "metadata": {
        "id": "LvWqpwmgVz1Z",
        "outputId": "e48f930e-cdc9-43e3-8194-8e52ce27daef",
        "colab": {
          "base_uri": "https://localhost:8080/"
        }
      },
      "outputs": [
        {
          "output_type": "stream",
          "name": "stdout",
          "text": [
            "[0, 1, 4, 9, 16]\n"
          ]
        }
      ],
      "source": [
        "squares = [i**2 for i in range(5)]\n",
        "\n",
        "print(squares)"
      ]
    },
    {
      "cell_type": "markdown",
      "metadata": {
        "id": "uYy6w5sjybBr"
      },
      "source": [
        "### 練習7\n",
        "\n",
        "データの性質を表す指標として平均値は代表的なものですが，その他に重要な指標として__分散(variance)__があります．平均の次は，分散を求めてみることにしましょう．\n",
        "分散は以下の式で定義されます．\n",
        "\n",
        "$$\n",
        "v = \\frac{1}{n} \\sum_{i=1}^{n} (x_i - \\bar{x})^2\n",
        "$$\n",
        "\n",
        "ここで， $n$ はデータの数，$x_i$ は$i$番目のデータ，$\\bar{x}$ はデータの平均値です． $\\sum$ は初めてみる人もいるかもしれませんが，単に数字の列の和を計算することを短く表現するための記号と思ってください．\n",
        "\n",
        "$$\n",
        "\\sum_{i=1}^{n} a_i = a_1 + a_2 + a_3 + ... + a_n\n",
        "$$\n",
        "\n",
        "ということなので，分散の式も $\\sum$ を使わずにばらしてしまえば，\n",
        "\n",
        "$$\n",
        "v = \\frac{1}{n} \\{(x_1 - \\bar{x})^2 + (x_2 - \\bar{x})^2 + (x_3 - \\bar{x})^2 + ... + (x_n - \\bar{x})^2\\}\n",
        "$$\n",
        "\n",
        "ということです．この足し算の中の各項は，例えば，３番の場合，以下のように書くことができます．"
      ]
    },
    {
      "cell_type": "code",
      "execution_count": null,
      "metadata": {
        "id": "JEEGaeKySPyK"
      },
      "outputs": [],
      "source": []
    },
    {
      "cell_type": "markdown",
      "metadata": {
        "id": "FQaRHsjdybBr"
      },
      "source": [
        "i = 3\n",
        "(answer[i] - heikin)**2"
      ]
    },
    {
      "cell_type": "markdown",
      "metadata": {
        "id": "2zjq97S-ybBr"
      },
      "source": [
        "各要素の値が平均からどれくらい離れているのか，を差をとって二乗することによって評価しているということですね．（２乗は ```**2``` で計算できることを覚えていますか？）\n",
        "\n",
        "各データの値の平均からの離れ具合について和をとって，その平均を取るために個数で割ったものが分散ですから，プログラムは for を使って以下のように書けます．"
      ]
    },
    {
      "cell_type": "code",
      "execution_count": 97,
      "metadata": {
        "id": "wkM3R-6yybBr",
        "outputId": "5b46ee27-2799-4b2e-f6be-1f5962f28cdd",
        "colab": {
          "base_uri": "https://localhost:8080/"
        }
      },
      "outputs": [
        {
          "output_type": "stream",
          "name": "stdout",
          "text": [
            "分散は7.809999999999999です\n"
          ]
        }
      ],
      "source": [
        "answer = [10, 4, 9, 9, 3, 5, 9, 9, 7, 8, 5, 4, 10, 2, 6, 7, 9, 0, 10, 3, 10, 3, 8, 10, 9, 5, 5, 9, 5, 8]\n",
        "\n",
        "sum_all = 0\n",
        "data_num = len(answer)\n",
        "for i in range(data_num):\n",
        "    sum_all = sum_all + answer[i]\n",
        "\n",
        "mean = sum_all / data_num\n",
        "sum_of_squared = 0\n",
        "for x in answer:\n",
        "  sum_of_squared += (x - mean) ** 2\n",
        "\n",
        "variance = sum_of_squared / data_num\n",
        "print(f'分散は{variance}です')"
      ]
    },
    {
      "cell_type": "markdown",
      "metadata": {
        "id": "tzUR2NMYybBr"
      },
      "source": [
        "## 課題提出"
      ]
    },
    {
      "cell_type": "markdown",
      "metadata": {
        "id": "qr5eU01oybBs"
      },
      "source": [
        "名前："
      ]
    },
    {
      "cell_type": "markdown",
      "metadata": {
        "id": "Km2FkAYsybBs"
      },
      "source": [
        "学籍番号:"
      ]
    },
    {
      "cell_type": "markdown",
      "metadata": {
        "id": "gfLYLaxeybBs"
      },
      "source": [
        "感想："
      ]
    },
    {
      "cell_type": "markdown",
      "metadata": {
        "id": "sOLrFeyOybBs"
      },
      "source": [
        "ファイルを保存したら，このファイルをファイルメニューの「.ipynbをダウンロード」からダウンロードし，関大LMSで提出してください．"
      ]
    }
  ],
  "metadata": {
    "colab": {
      "provenance": []
    },
    "kernelspec": {
      "display_name": "Python 3 (ipykernel)",
      "language": "python",
      "name": "python3"
    },
    "language_info": {
      "codemirror_mode": {
        "name": "ipython",
        "version": 3
      },
      "file_extension": ".py",
      "mimetype": "text/x-python",
      "name": "python",
      "nbconvert_exporter": "python",
      "pygments_lexer": "ipython3",
      "version": "3.11.4"
    }
  },
  "nbformat": 4,
  "nbformat_minor": 0
}