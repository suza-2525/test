{
  "cells": [
    {
      "cell_type": "markdown",
      "metadata": {
        "id": "bbUUhLgGo2_g"
      },
      "source": [
        "# コンピュータの言語2025：課題5：フローチャートとPython (while)\n",
        "\n",
        "\n",
        "\n",
        "前回までに ```for``` の使い方を学びましたが，今回は ```while``` を使った繰り返しです．\n",
        "\n",
        "__課題ファイルの中のプログラムは全て実行するようにしてください．__\n",
        "\n",
        "## while を使った繰り返し\n",
        "\n",
        "```while``` は\n",
        "\n",
        "```python\n",
        "while 条件:\n",
        "    命令\n",
        "```\n",
        "\n",
        "のように書き，条件が満たされている間，字下げをされた部分が繰り返されます．試してみましょう．"
      ]
    },
    {
      "cell_type": "code",
      "execution_count": 33,
      "metadata": {
        "id": "WJYZHA-do2_h",
        "outputId": "c0589814-0757-412e-9712-a201a25bd622",
        "colab": {
          "base_uri": "https://localhost:8080/"
        }
      },
      "outputs": [
        {
          "output_type": "stream",
          "name": "stdout",
          "text": [
            "0\n",
            "1\n",
            "2\n",
            "3\n",
            "4\n",
            "5\n",
            "6\n",
            "7\n",
            "8\n",
            "9\n"
          ]
        }
      ],
      "source": [
        "n = 0\n",
        "while n<10:\n",
        "    print(n)\n",
        "    n = n+1"
      ]
    },
    {
      "cell_type": "markdown",
      "metadata": {
        "id": "aQtHH975o2_l"
      },
      "source": [
        "上記のように，while ループの中で「nが10未満」という条件が成り立っている間，「nに1を足す」命令が繰り返されています．"
      ]
    },
    {
      "cell_type": "markdown",
      "metadata": {
        "id": "TNIY8wIxo2_l"
      },
      "source": [
        "## 例１：選択構造による繰り返し（前判定）\n",
        "\n",
        "![](https://ogilab.kutc.kansai-u.ac.jp/downloads/complang/figs_kadai06/kadai06_01.png)"
      ]
    },
    {
      "cell_type": "code",
      "execution_count": 34,
      "metadata": {
        "id": "658rBg4Xo2_m",
        "outputId": "b82187f1-8635-4a62-8f37-bfba557d66a8",
        "colab": {
          "base_uri": "https://localhost:8080/"
        }
      },
      "outputs": [
        {
          "output_type": "stream",
          "name": "stdout",
          "text": [
            "55\n"
          ]
        }
      ],
      "source": [
        "summ = 0\n",
        "i = 1\n",
        "\n",
        "while i<=10:\n",
        "    summ = summ + i\n",
        "    i = i+1\n",
        "\n",
        "print(summ)"
      ]
    },
    {
      "cell_type": "markdown",
      "metadata": {
        "id": "YDny2V6o64pY"
      },
      "source": [
        "### 参考：なぜ　```sum``` を使わないのか？\n",
        "```sum``` は python の組み込み関数の名前として使われていますので，```sum ``` を変数として使うと組み込み関数が上書きされています．"
      ]
    },
    {
      "cell_type": "code",
      "execution_count": null,
      "metadata": {
        "tags": [],
        "id": "MXwwH_jI64pZ",
        "outputId": "d16ed874-f84b-4226-9699-40bd245dfe53"
      },
      "outputs": [
        {
          "data": {
            "text/plain": [
              "6"
            ]
          },
          "execution_count": 2,
          "metadata": {},
          "output_type": "execute_result"
        }
      ],
      "source": [
        "sum([1,2,3])  #組み込み関数として利用．1+2+3を計算する．"
      ]
    },
    {
      "cell_type": "code",
      "execution_count": null,
      "metadata": {
        "tags": [],
        "id": "lYEsSzsz64pa",
        "outputId": "e1b2e64f-2ee0-440a-d826-6ef119ed61dd"
      },
      "outputs": [
        {
          "name": "stdout",
          "output_type": "stream",
          "text": [
            "3\n"
          ]
        }
      ],
      "source": [
        "sum = 3    #変数として利用．\n",
        "print(sum)"
      ]
    },
    {
      "cell_type": "code",
      "execution_count": null,
      "metadata": {
        "tags": [],
        "id": "pgY11Mnm64pb",
        "outputId": "da222316-43cc-4dd8-8654-57d0e88cc004"
      },
      "outputs": [
        {
          "ename": "TypeError",
          "evalue": "'int' object is not callable",
          "output_type": "error",
          "traceback": [
            "\u001b[0;31m---------------------------------------------------------------------------\u001b[0m",
            "\u001b[0;31mTypeError\u001b[0m                                 Traceback (most recent call last)",
            "Cell \u001b[0;32mIn[6], line 1\u001b[0m\n\u001b[0;32m----> 1\u001b[0m \u001b[38;5;28msum\u001b[39m([\u001b[38;5;241m1\u001b[39m,\u001b[38;5;241m2\u001b[39m,\u001b[38;5;241m3\u001b[39m])\n",
            "\u001b[0;31mTypeError\u001b[0m: 'int' object is not callable"
          ]
        }
      ],
      "source": [
        "sum([1,2,3]) # sum は上書きされてしまったのでエラーになる"
      ]
    },
    {
      "cell_type": "markdown",
      "metadata": {
        "id": "BF5hf7M764pc"
      },
      "source": [
        "このように，一度変数として使ってしまうと，上書きされて関数として利用できなくなってしまいます．\n",
        "組み込み関数として復活させたいときには，python 内の変数としての ```sum``` を```del```命令で削除します．"
      ]
    },
    {
      "cell_type": "code",
      "execution_count": null,
      "metadata": {
        "tags": [],
        "id": "iZdo8kBI64pd",
        "outputId": "7a5291c7-cb0b-4ca5-b1cd-f4185e60738f"
      },
      "outputs": [
        {
          "data": {
            "text/plain": [
              "6"
            ]
          },
          "execution_count": 7,
          "metadata": {},
          "output_type": "execute_result"
        }
      ],
      "source": [
        "del sum       #変数（オブジェクト）sum を削除\n",
        "sum([1,2,3])  #組み込み関数として復活！"
      ]
    },
    {
      "cell_type": "markdown",
      "metadata": {
        "id": "zPOvIp2Oo2_o"
      },
      "source": [
        "## 練習１\n",
        "\n",
        "* 下のプログラムは1から10までの和を求めるプログラムです．このプログラムを改変して１０から３００までの和を求めてください．（１０と３００は含みます）"
      ]
    },
    {
      "cell_type": "code",
      "execution_count": 35,
      "metadata": {
        "id": "GvvyHSuAo2_p",
        "outputId": "1b6e80c5-0b51-4894-e918-c4af6b98a300",
        "colab": {
          "base_uri": "https://localhost:8080/"
        }
      },
      "outputs": [
        {
          "output_type": "stream",
          "name": "stdout",
          "text": [
            "55\n"
          ]
        }
      ],
      "source": [
        "summ = 0\n",
        "i = 1\n",
        "\n",
        "while i<=10:\n",
        "    summ = summ + i\n",
        "    i = i+1\n",
        "\n",
        "print(summ)"
      ]
    },
    {
      "cell_type": "markdown",
      "metadata": {
        "id": "LcaIuKvBo2_q"
      },
      "source": [
        "## 例２：選択構造による繰り返し（後判定）\n",
        "\n",
        "![](https://ogilab.kutc.kansai-u.ac.jp/downloads/complang/figs_kadai06/kadai06_02.png)\n",
        "\n",
        "while は「条件が成立するか成立しないか」，つまり「条件が ```True``` か ```False``` か」でループを回すかどうかを決定します．（このように ```True``` または ```False``` になる式を __論理式__ といいます．）\n",
        "\n",
        "while の条件のところを ```True``` としておいて，ループの中で実行条件や終了条件を判断することもできます．"
      ]
    },
    {
      "cell_type": "code",
      "execution_count": 36,
      "metadata": {
        "id": "hd16KLsQo2_r",
        "outputId": "0ce1f9f9-1079-4885-ff7b-da2e4e1a7c14",
        "colab": {
          "base_uri": "https://localhost:8080/"
        }
      },
      "outputs": [
        {
          "output_type": "stream",
          "name": "stdout",
          "text": [
            "55\n"
          ]
        }
      ],
      "source": [
        "summ = 0\n",
        "i = 1\n",
        "\n",
        "while True:\n",
        "    summ = summ + i\n",
        "    i = i+1\n",
        "\n",
        "    if i<=10:\n",
        "        continue  # whileループの先頭に戻る\n",
        "    else:\n",
        "        break     # whileループを終了する\n",
        "\n",
        "print(summ)"
      ]
    },
    {
      "cell_type": "markdown",
      "metadata": {
        "id": "4b4co5g_o2_t"
      },
      "source": [
        "```continue``` が実行されると，while ループの最初に戻ります（その後の命令は実行されません）．また，```break``` が実行されると，while ループはそこで終了し，プログラムはループを抜けて while の下の命令が実行されます．"
      ]
    },
    {
      "cell_type": "markdown",
      "metadata": {
        "id": "sQqkM9bLo2_t"
      },
      "source": [
        "## 練習2\n",
        "```continue``` あるいは ```break``` の前後に命令を書いて実行されるかどうかを調べてみましょう．"
      ]
    },
    {
      "cell_type": "code",
      "execution_count": 38,
      "metadata": {
        "id": "cILlDkgHo2_u",
        "outputId": "0d6b7719-2883-4f74-cd54-0db1eb9a2ce2",
        "colab": {
          "base_uri": "https://localhost:8080/"
        }
      },
      "outputs": [
        {
          "output_type": "stream",
          "name": "stdout",
          "text": [
            "a\n",
            "a\n",
            "a\n",
            "a\n",
            "a\n",
            "a\n",
            "a\n",
            "a\n",
            "a\n",
            "b\n",
            "55\n"
          ]
        }
      ],
      "source": [
        "summ = 0\n",
        "i = 1\n",
        "\n",
        "while True:\n",
        "    summ = summ + i\n",
        "    i = i+1\n",
        "\n",
        "    if i<=10:\n",
        "        #ここに書いた命令は何回実行される？->(a)\n",
        "        print(\"a\")\n",
        "        continue\n",
        "    else:\n",
        "        #ここに書いた命令は何回実行される？->(b)\n",
        "        print(\"b\")\n",
        "        break\n",
        "\n",
        "    print(\"hello\")  # hello　は何回出力される？ ->(c)\n",
        "\n",
        "print(summ)"
      ]
    },
    {
      "cell_type": "markdown",
      "metadata": {
        "id": "t2RQ0YwXo2_w"
      },
      "source": [
        "(a): 9 回, (b): 1 回, (c) 0 回"
      ]
    },
    {
      "cell_type": "markdown",
      "metadata": {
        "id": "CZFAfQ9mo2_w"
      },
      "source": [
        "## 例3\n",
        "\n",
        "![](https://ogilab.kutc.kansai-u.ac.jp/downloads/complang/figs_kadai06/kadai06_03.png)\n",
        "\n",
        "このフローチャートに合うように以下のプログラムの XXXX を埋めてください．"
      ]
    },
    {
      "cell_type": "code",
      "execution_count": 39,
      "metadata": {
        "id": "o9UqJDZGo2_x",
        "outputId": "7f74112a-481d-4699-ccb8-11ac5c45c59a",
        "colab": {
          "base_uri": "https://localhost:8080/"
        }
      },
      "outputs": [
        {
          "output_type": "stream",
          "name": "stdout",
          "text": [
            "7\n",
            "5\n",
            "3\n",
            "1\n",
            "owari\n"
          ]
        }
      ],
      "source": [
        "i = 7\n",
        "\n",
        "while i>0:\n",
        "    print(i)\n",
        "    i = i - 2\n",
        "\n",
        "print(\"owari\")"
      ]
    },
    {
      "cell_type": "markdown",
      "metadata": {
        "id": "LlcsVM_9o2_z"
      },
      "source": [
        "スライドでは，コンピュータを使わずに考える問題でしたが，コンピュータでプログラムを実行して，実行回数を調べてみましょう．\n",
        "そのために何回実行されるかを数えるための変数 \"repeat\" を用意して，```repeat``` は繰り返されるたびに１が足されるようにし，その値を出力するようにします．"
      ]
    },
    {
      "cell_type": "code",
      "execution_count": 41,
      "metadata": {
        "id": "h_WInFTHo2_z",
        "outputId": "e4f31158-ac75-4a05-9d80-98921b14ad3a",
        "colab": {
          "base_uri": "https://localhost:8080/"
        }
      },
      "outputs": [
        {
          "output_type": "stream",
          "name": "stdout",
          "text": [
            "繰り返しは4回でした\n"
          ]
        }
      ],
      "source": [
        "i = 7\n",
        "repeat = 0 #繰り返し回数を調べるための変数\n",
        "while i>0:\n",
        "    repeat = repeat + 1\n",
        "    i = i - 2\n",
        "\n",
        "print(f'繰り返しは{repeat}回でした')"
      ]
    },
    {
      "cell_type": "markdown",
      "metadata": {
        "id": "OM-4lWUio2_2"
      },
      "source": [
        "このようにすることでループの繰り返し回数を確認することができます．\n",
        "\n",
        "このように，プログラムの動作を確認したいときには，自分で変数を用意しどのような値が出力されるのかを確認するとよいでしょう．"
      ]
    },
    {
      "cell_type": "markdown",
      "metadata": {
        "id": "1bh94hIro2_2"
      },
      "source": [
        "## 練習3\n",
        "\n",
        "![](https://ogilab.kutc.kansai-u.ac.jp/downloads/complang/figs_kadai06/kadai06_04.png)\n",
        "\n",
        "\n",
        "上記の問題に対応する Python プログラムは以下となります．__xx(1)xx__ と __xx(2)xx__ に入る式は何になるでしょうか？（ヒント：sum = 45 と出力されれば合っていることになります）"
      ]
    },
    {
      "cell_type": "code",
      "execution_count": 45,
      "metadata": {
        "id": "lVgXvudto2_2",
        "outputId": "ac6c5c0e-d42c-4ea8-a3e6-0f0f7d569ad8",
        "colab": {
          "base_uri": "https://localhost:8080/"
        }
      },
      "outputs": [
        {
          "output_type": "stream",
          "name": "stdout",
          "text": [
            "sum=45\n"
          ]
        }
      ],
      "source": [
        "summ = 0\n",
        "i = 5\n",
        "\n",
        "while i<=13:\n",
        "    summ = summ + i\n",
        "    i = i + 2\n",
        "\n",
        "print(f'sum={summ}')"
      ]
    },
    {
      "cell_type": "markdown",
      "metadata": {
        "id": "8HS5izigo2_4"
      },
      "source": [
        "## 練習4\n",
        "\n",
        "あるウィルスの感染者数は１日あたり2.3%ずつ増えていくことがわかっているとします．ある日の感染者は100人でした．感染者が100,000人を超えるのは約何日後になるでしょうか？それを求めるためのプログラムを完成させてください．"
      ]
    },
    {
      "cell_type": "code",
      "execution_count": 46,
      "metadata": {
        "id": "H4Xbawlho2_4",
        "outputId": "62f462de-0aaa-4737-aee0-d686cc0b2691",
        "colab": {
          "base_uri": "https://localhost:8080/"
        }
      },
      "outputs": [
        {
          "output_type": "stream",
          "name": "stdout",
          "text": [
            "35日\n"
          ]
        }
      ],
      "source": [
        "n = 100\n",
        "days = 1\n",
        "while n <= 100000:\n",
        "    days = days+1\n",
        "    n = n*1.23\n",
        "\n",
        "print(f'{days}日')"
      ]
    },
    {
      "cell_type": "markdown",
      "metadata": {
        "id": "wwSBYFY3o2_6"
      },
      "source": [
        "## ループ端記号による繰り返し\n",
        "\n",
        "フローチャートでは，繰り返しの処理を行うのに選択記号もループ端記号も使えますが，それは for, while に対応しているわけではありません．今回はループ端記号のフローチャートを while を使ってプログラムにしていきます．\n",
        "\n",
        "![](https://ogilab.kutc.kansai-u.ac.jp/downloads/complang/figs_kadai06/kadai06_05.png)\n",
        "\n",
        "ループ端記号に書かれている条件は「__ループが終了する条件__」であるのに対し，プログラムの while のところに書く条件は「__ループが実行される条件__」であるということに注意してください．"
      ]
    },
    {
      "cell_type": "code",
      "execution_count": 49,
      "metadata": {
        "id": "zy3GbWllo2_6",
        "outputId": "9e9a71a7-4437-4baa-e615-817a59479cba",
        "colab": {
          "base_uri": "https://localhost:8080/"
        }
      },
      "outputs": [
        {
          "output_type": "stream",
          "name": "stdout",
          "text": [
            "nを入力してください:5\n",
            "n=5\n",
            "n=4\n",
            "n=3\n",
            "n=2\n",
            "n=1\n",
            "owari\n"
          ]
        }
      ],
      "source": [
        "n = int( input(\"nを入力してください:\") )\n",
        "\n",
        "while n>0:\n",
        "    print(f'n={n}')\n",
        "    n = n-1\n",
        "\n",
        "print(\"owari\")"
      ]
    },
    {
      "cell_type": "markdown",
      "metadata": {
        "id": "vfs0sYJeo2_8"
      },
      "source": [
        "## 無限ループ\n",
        "\n",
        "上のプログラムで n<0 として -1 を入力すると，n はどんどん小さくなって，いつまでもループが終了しなくなってしまいます．このように終了しないループのことを __無限ループ__ といいます（場合によっては操作不能になるので，やめておいたほうがよいでしょう）．もしこのようになったプログラムを Google Colab で終了させるためには，メニューの 「 __ランタイム__ 」の中から「 __実行を中断__ 」または「 __ランタイムを再起動__ 」を選択してください．運が良ければ再開することができます．"
      ]
    },
    {
      "cell_type": "markdown",
      "metadata": {
        "id": "CyhlWfFJo2_8"
      },
      "source": [
        "## 練習5\n",
        "\n",
        "![](https://ogilab.kutc.kansai-u.ac.jp/downloads/complang/figs_kadai06/kadai06_06.png)\n",
        "\n",
        "上のフローチャートと同じになるように下のプログラムを完成させてください．"
      ]
    },
    {
      "cell_type": "code",
      "execution_count": 57,
      "metadata": {
        "id": "Gyxou7uro2_9",
        "outputId": "b6dcd6bf-f568-4a26-834f-fee8df7e6dd2",
        "colab": {
          "base_uri": "https://localhost:8080/"
        }
      },
      "outputs": [
        {
          "output_type": "stream",
          "name": "stdout",
          "text": [
            "数字を入力してください：3\n",
            "数字を入力してください：4\n",
            "数字を入力してください：67\n",
            "数字を入力してください：0\n",
            "最大値： 67\n"
          ]
        }
      ],
      "source": [
        "max = 0\n",
        "while True:\n",
        "    n = int(input(\"数字を入力してください：\"))\n",
        "    if n <= 0:\n",
        "        break\n",
        "    if n > max:\n",
        "        max_val = n\n",
        "print( \"最大値：\", max_val)"
      ]
    },
    {
      "cell_type": "markdown",
      "metadata": {
        "id": "pm6p-eH2o2__"
      },
      "source": [
        "## 練習6\n",
        "\n",
        "上記のプログラムは終了条件と実行条件を入れ替えて，下のように書くこともできます．\n",
        "\n",
        "![](https://ogilab.kutc.kansai-u.ac.jp/downloads/complang/figs_kadai06/kadai06_07.png)\n",
        "\n",
        "これと同じになるように下のプログラムを完成させてください．"
      ]
    },
    {
      "cell_type": "code",
      "execution_count": 62,
      "metadata": {
        "id": "IgQHnRfBo2__",
        "outputId": "ecdad27c-d5dc-41c2-e817-aae9e7357a12",
        "colab": {
          "base_uri": "https://localhost:8080/"
        }
      },
      "outputs": [
        {
          "output_type": "stream",
          "name": "stdout",
          "text": [
            "数字を入力してください：3\n",
            "数字を入力してください：19\n",
            "数字を入力してください：3\n",
            "数字を入力してください：8\n",
            "数字を入力してください：0\n",
            "最大値：19\n"
          ]
        }
      ],
      "source": [
        "max_val = 0\n",
        "n = 1\n",
        "while n>0:\n",
        "    n = int(input(\"数字を入力してください：\"))\n",
        "    if n>max_val:\n",
        "        max_val = n\n",
        "print( f\"最大値：{max_val}\")"
      ]
    },
    {
      "cell_type": "markdown",
      "metadata": {
        "id": "AEQ2F5kqo3AA"
      },
      "source": [
        "## 関数\n",
        "\n",
        "関数とは，__一連の処理をひとまとめにしたもの__ ，あるいは，__処理を行った後にある値を返すもの__　です．\n",
        "\n",
        "関数は以下のように定義します．\n",
        "\n",
        "```python\n",
        "def 関数名 (パラメータ):\n",
        "   処理ブロック\n",
        "```\n",
        "\n",
        "while, for と同様に，処理ブロックは４つのスペースで字下げされている部分になります．\n",
        "\n",
        "___パラメータ___ の部分は関数が値を受け取るところで， __引数__ といいます．\n",
        "\n",
        "関数が変数の値を返す場合には ```return``` によって返します（必ずしも値を返す必要はありません．その場合は ```return``` は不要です）．\n",
        "\n",
        "```python\n",
        "def 関数名 (パラメータ):\n",
        "   処理ブロック\n",
        "   return 変数\n",
        "```\n",
        "\n",
        "例えば，「ある値を受け取って１を加えて返す」関数 ___plus___ は以下のように書くことができます．"
      ]
    },
    {
      "cell_type": "code",
      "execution_count": null,
      "metadata": {
        "id": "_oenT_JVo3AA"
      },
      "outputs": [],
      "source": [
        "def plus(x):\n",
        "    x = x+1\n",
        "    return x\n",
        "\n",
        "plus(1)"
      ]
    },
    {
      "cell_type": "markdown",
      "metadata": {
        "id": "VbkrfWawo3AB"
      },
      "source": [
        "注意点としては，__関数を使う時には，必ずその前に定義されていなければならない__ということです．\n",
        "\n",
        "以下はエラーが出るプログラムの例"
      ]
    },
    {
      "cell_type": "code",
      "execution_count": null,
      "metadata": {
        "id": "rRAwOpvLo3AC"
      },
      "outputs": [],
      "source": [
        "print( minus(1) )   # 定義されていないのに，いきなり関数 minus が現れた！　エラーだ！\n",
        "\n",
        "def minus(x):\n",
        "    return x+1"
      ]
    },
    {
      "cell_type": "markdown",
      "metadata": {
        "id": "a6M0mmbvo3AD"
      },
      "source": [
        "正しい順序の例．"
      ]
    },
    {
      "cell_type": "code",
      "execution_count": null,
      "metadata": {
        "id": "CHXh_t_uo3AD"
      },
      "outputs": [],
      "source": [
        "def minus(x):       # ここで定義されている\n",
        "    return x-1\n",
        "\n",
        "print( minus(1) )   # 上で定義されているので，使える！"
      ]
    },
    {
      "cell_type": "markdown",
      "metadata": {
        "id": "5Q_dmdMeuvGK"
      },
      "source": [
        "（注意）google colab の場合，一度実行されたセルの変数や関数は全て保存されていますので，上の方のセルで変数や関数の定義を実行していれば，後のセルでどこでも利用できます．"
      ]
    },
    {
      "cell_type": "markdown",
      "metadata": {
        "id": "ayIPG2Wdo3AE"
      },
      "source": [
        "## 練習7\n",
        "\n",
        "下のプログラムで，引数として入力された値に3をかけて返す関数 kakesan を定義してください．\n"
      ]
    },
    {
      "cell_type": "code",
      "execution_count": null,
      "metadata": {
        "id": "qnwHSnTPo3AE"
      },
      "outputs": [],
      "source": [
        "def XXXXXXXXXXXX:\n",
        "    XXXXXXXX\n",
        "    XXXXXXXX\n",
        "\n",
        "\n",
        "x = kakesan(3)\n",
        "print(x)"
      ]
    },
    {
      "cell_type": "markdown",
      "metadata": {
        "id": "wwl51FSxo3AG"
      },
      "source": [
        "## 複数の引数\n",
        "関数は複数の引数を取ることができます．"
      ]
    },
    {
      "cell_type": "code",
      "execution_count": null,
      "metadata": {
        "id": "J2rxISvCo3AG"
      },
      "outputs": [],
      "source": [
        "def select_small(x,y):\n",
        "    if x<y:\n",
        "        return x\n",
        "    else:\n",
        "        return y\n",
        "\n",
        "p = select_small(1,3)\n",
        "print(p)"
      ]
    },
    {
      "cell_type": "markdown",
      "metadata": {
        "id": "tit6DFRNvkty"
      },
      "source": [
        "## 複数の値の return\n",
        "\n",
        "関数は複数の値を返すことができます．"
      ]
    },
    {
      "cell_type": "code",
      "execution_count": null,
      "metadata": {
        "id": "V1wCDldmvzld"
      },
      "outputs": [],
      "source": [
        "def tasu_1_2(a):\n",
        "  x = a+1\n",
        "  y = a+2\n",
        "  return x,y\n",
        "\n",
        "p,q = tasu_1_2(3)\n",
        "print(p,q)"
      ]
    },
    {
      "cell_type": "markdown",
      "metadata": {
        "id": "3Z9I1Ff5o3AH"
      },
      "source": [
        "## 練習8\n",
        "\n",
        "２つの数字を引数として受け取り，その掛け算を出力する関数kake を定義してください．"
      ]
    },
    {
      "cell_type": "code",
      "execution_count": null,
      "metadata": {
        "id": "t4Z9J2gco3AH"
      },
      "outputs": [],
      "source": [
        "def xxxxxxxxxxxxxxxx:\n",
        "        xxxxxxxxx\n",
        "\n",
        "\n",
        "x = kake(2,3)\n",
        "print(x)"
      ]
    },
    {
      "cell_type": "markdown",
      "metadata": {
        "id": "V55xV1YiwbEN"
      },
      "source": [
        "## 練習9\n",
        "\n",
        "1つの数字を引数として受け取り，その数を 3 で割った商とあまりを返す関数 warusan を定義してください．"
      ]
    },
    {
      "cell_type": "code",
      "execution_count": null,
      "metadata": {
        "id": "5xQ-z6LNwr3r"
      },
      "outputs": [],
      "source": [
        "def xxxxxxxxxxxxxxxxx:\n",
        "    shou = xxxxxxx\n",
        "    amari = xxxxxx\n",
        "    return xxxxxxxxxxxxxxx\n",
        "\n",
        "a, b = warusan(10)\n",
        "print(f'10を3で割った商は{xxx},あまりは{xxx}です')"
      ]
    },
    {
      "cell_type": "markdown",
      "metadata": {
        "id": "ddflVwuHo3AI"
      },
      "source": [
        "## 練習10\n",
        "\n",
        "4次関数 $y =x^4-2x^3+1$ について，$x$ を -1 から 2 まで 0.01 ずつ動かした時の $y$ の最小値とそのときの $x$ の値を求めるプログラムを書いてみましょう．以下のプログラムの __XXXXXXXXXXXXXXXX__ には何を入れたらよいでしょうか？"
      ]
    },
    {
      "cell_type": "code",
      "execution_count": null,
      "metadata": {
        "id": "SzLWfJ6-o3AI"
      },
      "outputs": [],
      "source": [
        "def func(x):\n",
        "    return xxxxxxxxxxxxxxxxx\n",
        "\n",
        "x = -1.0\n",
        "min_val = func(x)\n",
        "min_x   = x\n",
        "while x<=2.0:\n",
        "    y = func(x)\n",
        "    if XXXXXXXXXXXXX:\n",
        "        min_val = XXXXXXXXXXXXXXX\n",
        "        min_x   = x\n",
        "    x = XXXXXXXXXXXX\n",
        "\n",
        "print(f\"最小値は{min_val}，その時のxの値は{min_x}\""
      ]
    },
    {
      "cell_type": "markdown",
      "metadata": {
        "id": "Pe82EfJs2u40"
      },
      "source": [
        "出力された最小値とその時の x の値が合っているか？は以下のプログラムを実行してグラフを見て判断してください．"
      ]
    },
    {
      "cell_type": "code",
      "execution_count": null,
      "metadata": {
        "id": "gvXrt71801FW"
      },
      "outputs": [],
      "source": [
        "# プログラムの意味は理解する必要はありません\n",
        "import matplotlib.pyplot as plt\n",
        "import numpy as np\n",
        "\n",
        "x = np.linspace(-1.0,2.0,100)\n",
        "y = x**4 - 2*(x**3) + 1\n",
        "\n",
        "plt.plot(x,y)"
      ]
    },
    {
      "cell_type": "markdown",
      "metadata": {
        "id": "jn3S75ERo3AJ"
      },
      "source": [
        "## 関数とスコープ (応用)\n",
        "基本的には，関数は引数や返り値を通して周囲とやりとりをしますし，多くの場合ではそのようにすべきです．こうすることで，情報の入力と出力がはっきりして，読みやすくなり，テストやデバッグがやりやすくなります．\n",
        "\n",
        "これはプログラムを理解しようとするときに，__その場所の近辺さえ理解しさえすれば理解可能である__ ということです．もし他の場所で定義されたものまで考えなければならないとしたら，その関数が実行される文脈など多くのことを考慮しなければならず，理解が難しくなってしまいます．\n",
        "\n",
        "しかしながら，それでも，ときには，__関数の外で定義した変数（広域変数（グローバル変数））にアクセスしたい__ 場合もあります．そのときには，どうすればよいのでしょうか？ そんなときは ```global``` を使います．"
      ]
    },
    {
      "cell_type": "markdown",
      "metadata": {
        "id": "eYbRS6H_o3AJ"
      },
      "source": [
        "## 練習11\n",
        "\n",
        "下のプログラムの出力を調べ，1st:, 2nd:, 3rd: のそれぞれ後に出力される値を調べ， (1),(2),(3) として答えてください．"
      ]
    },
    {
      "cell_type": "code",
      "execution_count": null,
      "metadata": {
        "id": "x3VwdJVPo3AJ"
      },
      "outputs": [],
      "source": [
        "a = 10\n",
        "\n",
        "def plus_one(x):\n",
        "    a = x+1\n",
        "\n",
        "def plus_two(x):\n",
        "    global a\n",
        "    a = x+2\n",
        "\n",
        "print( \"1st:\", a)\n",
        "plus_one(3)\n",
        "print( \"2nd:\", a)\n",
        "plus_two(4)\n",
        "print( \"3rd:\", a)"
      ]
    },
    {
      "cell_type": "markdown",
      "metadata": {
        "id": "fUE_01Wco3AK"
      },
      "source": [
        "(1): XXX\n",
        "(2): XXX\n",
        "(3): XXX"
      ]
    },
    {
      "cell_type": "markdown",
      "metadata": {
        "id": "yInnK2nko3AK"
      },
      "source": [
        "## 課題提出"
      ]
    },
    {
      "cell_type": "markdown",
      "metadata": {
        "id": "8Uj3BEwho3AL"
      },
      "source": [
        "名前："
      ]
    },
    {
      "cell_type": "markdown",
      "metadata": {
        "id": "eHDhKi_vo3AL"
      },
      "source": [
        "学籍番号："
      ]
    },
    {
      "cell_type": "markdown",
      "metadata": {
        "id": "sBq84eYFo3AL"
      },
      "source": [
        "感想："
      ]
    },
    {
      "cell_type": "markdown",
      "metadata": {
        "id": "yvJwnRdMo3AL"
      },
      "source": [
        "ファイルを保存したら，このファイルをファイルメニューの「.ipynbをダウンロード」からダウンロードし，関大LMSで提出してください．"
      ]
    },
    {
      "cell_type": "code",
      "execution_count": null,
      "metadata": {
        "id": "kCAvFTEUo3AL"
      },
      "outputs": [],
      "source": []
    }
  ],
  "metadata": {
    "anaconda-cloud": {},
    "colab": {
      "name": "kadai6.ipynb",
      "provenance": []
    },
    "kernelspec": {
      "display_name": "Python 3 (ipykernel)",
      "language": "python",
      "name": "python3"
    },
    "language_info": {
      "codemirror_mode": {
        "name": "ipython",
        "version": 3
      },
      "file_extension": ".py",
      "mimetype": "text/x-python",
      "name": "python",
      "nbconvert_exporter": "python",
      "pygments_lexer": "ipython3",
      "version": "3.11.5"
    }
  },
  "nbformat": 4,
  "nbformat_minor": 0
}